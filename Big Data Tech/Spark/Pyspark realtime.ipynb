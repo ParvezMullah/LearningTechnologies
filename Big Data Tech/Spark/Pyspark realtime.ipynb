{
 "cells": [
  {
   "cell_type": "code",
   "execution_count": 2,
   "id": "e20fb523",
   "metadata": {},
   "outputs": [
    {
     "name": "stderr",
     "output_type": "stream",
     "text": [
      "Warning: Ignoring non-Spark config property: job.local.dir\n",
      "Setting default log level to \"WARN\".\n",
      "To adjust logging level use sc.setLogLevel(newLevel). For SparkR, use setLogLevel(newLevel).\n",
      "23/07/28 15:12:16 WARN NativeCodeLoader: Unable to load native-hadoop library for your platform... using builtin-java classes where applicable\n"
     ]
    }
   ],
   "source": [
    "from pyspark.sql import SparkSession\n",
    "spark = SparkSession.builder.master(\"local[1]\") \\\n",
    ".appName(\"SparkByExamples.com\") \\\n",
    ".config('job.local.dir', 'file:/Users/parvez.mullah/Documents/LearningTechnologies/Big Data Tech/Spark/data') \\\n",
    ".getOrCreate()"
   ]
  },
  {
   "cell_type": "markdown",
   "id": "df88fa5b",
   "metadata": {},
   "source": [
    "# Remove double quotes from value of json string"
   ]
  },
  {
   "cell_type": "code",
   "execution_count": 31,
   "id": "cb670771",
   "metadata": {},
   "outputs": [
    {
     "name": "stdout",
     "output_type": "stream",
     "text": [
      "+----+-------------------------------------------------+----------+--------+-------------------------------+----------------------------------+-------------------------------+-------------------------------------------------+\n",
      "|col1|col2                                             |col3      |col4    |col5                           |col6                              |col7                           |col8                                             |\n",
      "+----+-------------------------------------------------+----------+--------+-------------------------------+----------------------------------+-------------------------------+-------------------------------------------------+\n",
      "|1   |{\"id\":\"2\",\"name\":\"Parvez\"Mullah\",\"city\":\"mumbai\"}|{\"id\":\"2\",|\"name\":\"|Parvez\"Mullah\",\"city\":\"mumbai\"}|[Parvez, Mullah\",\"city\":\"mumbai\"}]|Parvez Mullah\",\"city\":\"mumbai\"}|{\"id\":\"2\",\"name\":\"Parvez Mullah\",\"city\":\"mumbai\"}|\n",
      "+----+-------------------------------------------------+----------+--------+-------------------------------+----------------------------------+-------------------------------+-------------------------------------------------+\n",
      "\n"
     ]
    }
   ],
   "source": [
    "from pyspark.sql.functions import split, col, lit, concat_ws, concat\n",
    "\n",
    "json_string = '{\"id\":\"2\",\"name\":\"Parvez\"Mullah\",\"city\":\"mumbai\"}'\n",
    "\n",
    "data = [(1, json_string)]\n",
    "\n",
    "cols = [\"col1\", \"col2\"]\n",
    "\n",
    "df = spark.createDataFrame(data=data, schema=cols)\n",
    "\n",
    "df = df.withColumn(\"col3\", split(col(\"col2\"), '\"name\":\"')[0])\\\n",
    ".withColumn(\"col4\", lit('\"name\":\"'))\\\n",
    ".withColumn(\"col5\", split(col(\"col2\"), '\"name\":\"')[1])\n",
    "\n",
    "df = df.withColumn(\"col6\", split(col(\"col5\"), '\"', 2))\n",
    "df = df.withColumn(\"col7\", concat_ws(' ', col(\"col6\")))\n",
    "df = df.withColumn(\"col8\", concat(col(\"col3\"), col(\"col4\"), col(\"col7\")))\n",
    "df.show(truncate=False)"
   ]
  },
  {
   "cell_type": "code",
   "execution_count": null,
   "id": "c6d80215",
   "metadata": {},
   "outputs": [],
   "source": []
  },
  {
   "cell_type": "markdown",
   "id": "0b8b98e9",
   "metadata": {},
   "source": [
    "# Check if a column exisits in DataFrame"
   ]
  },
  {
   "cell_type": "code",
   "execution_count": 41,
   "id": "c7122a59",
   "metadata": {},
   "outputs": [
    {
     "data": {
      "text/plain": [
       "False"
      ]
     },
     "execution_count": 41,
     "metadata": {},
     "output_type": "execute_result"
    }
   ],
   "source": [
    "data = [(1, 'Parvez', 'Male', 2000), (2, 'Parry', 'Male', 3000)]\n",
    "\n",
    "columns = ['id', 'name', 'gender', 'salary']\n",
    "\n",
    "df = spark.createDataFrame(data, columns)\n",
    "\n",
    "field_names = df.schema.fieldNames()\n",
    "\n",
    "'id' in field_names\n",
    "\n",
    "'absent_field' in field_names"
   ]
  },
  {
   "cell_type": "code",
   "execution_count": null,
   "id": "a0e465d2",
   "metadata": {},
   "outputs": [],
   "source": []
  },
  {
   "cell_type": "markdown",
   "id": "2f079a49",
   "metadata": {},
   "source": [
    "# Different Ways to apply functions on column in DataFrame"
   ]
  },
  {
   "cell_type": "code",
   "execution_count": 43,
   "id": "f01a867d",
   "metadata": {},
   "outputs": [],
   "source": [
    "data = [(1, 'Parvez', 'Male', 2000), (2, 'Parry', 'Male', 3000)]\n",
    "\n",
    "columns = ['id', 'name', 'gender', 'salary']\n",
    "\n",
    "df = spark.createDataFrame(data, columns)"
   ]
  },
  {
   "cell_type": "code",
   "execution_count": 44,
   "id": "cef1a3f1",
   "metadata": {},
   "outputs": [
    {
     "name": "stdout",
     "output_type": "stream",
     "text": [
      "+---+------+------+------+----------+\n",
      "| id|  name|gender|salary|upper_name|\n",
      "+---+------+------+------+----------+\n",
      "|  1|Parvez|  Male|  2000|    PARVEZ|\n",
      "|  2| Parry|  Male|  3000|     PARRY|\n",
      "+---+------+------+------+----------+\n",
      "\n"
     ]
    }
   ],
   "source": [
    "from pyspark.sql.functions import upper\n",
    "\n",
    "df.withColumn(\"upper_name\", upper(df.name)).show()"
   ]
  },
  {
   "cell_type": "code",
   "execution_count": 47,
   "id": "5390d33f",
   "metadata": {},
   "outputs": [
    {
     "name": "stdout",
     "output_type": "stream",
     "text": [
      "+---+----------+\n",
      "| id|upper_name|\n",
      "+---+----------+\n",
      "|  1|    PARVEZ|\n",
      "|  2|     PARRY|\n",
      "+---+----------+\n",
      "\n"
     ]
    }
   ],
   "source": [
    "df.select('id', upper('name').alias('upper_name')).show()"
   ]
  },
  {
   "cell_type": "code",
   "execution_count": 50,
   "id": "5981f7cf",
   "metadata": {},
   "outputs": [
    {
     "name": "stdout",
     "output_type": "stream",
     "text": [
      "+---+----------+\n",
      "| id|upper_name|\n",
      "+---+----------+\n",
      "|  1|    PARVEZ|\n",
      "|  2|     PARRY|\n",
      "+---+----------+\n",
      "\n"
     ]
    }
   ],
   "source": [
    "df.createOrReplaceTempView('persons')\n",
    "\n",
    "spark.sql('Select id, UPPER(name) as upper_name from persons').show()"
   ]
  },
  {
   "cell_type": "code",
   "execution_count": 52,
   "id": "1994214d",
   "metadata": {},
   "outputs": [
    {
     "name": "stdout",
     "output_type": "stream",
     "text": [
      "+---+------+------+------+\n",
      "| id|  name|gender|salary|\n",
      "+---+------+------+------+\n",
      "|  1|PARVEZ|  Male|  2000|\n",
      "|  2| PARRY|  Male|  3000|\n",
      "+---+------+------+------+\n",
      "\n"
     ]
    }
   ],
   "source": [
    "def upper_name(df):\n",
    "    return df.withColumn('name', upper(df.name))\n",
    "\n",
    "df.transform(upper_name).show()"
   ]
  },
  {
   "cell_type": "code",
   "execution_count": null,
   "id": "65b92bf1",
   "metadata": {},
   "outputs": [],
   "source": []
  }
 ],
 "metadata": {
  "kernelspec": {
   "display_name": "Python 3 (ipykernel)",
   "language": "python",
   "name": "python3"
  },
  "language_info": {
   "codemirror_mode": {
    "name": "ipython",
    "version": 3
   },
   "file_extension": ".py",
   "mimetype": "text/x-python",
   "name": "python",
   "nbconvert_exporter": "python",
   "pygments_lexer": "ipython3",
   "version": "3.11.3"
  }
 },
 "nbformat": 4,
 "nbformat_minor": 5
}
